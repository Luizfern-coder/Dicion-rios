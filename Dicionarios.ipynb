{
 "cells": [
  {
   "cell_type": "markdown",
   "id": "f7421a13",
   "metadata": {},
   "source": [
    "Dicionarios em Python\n",
    "\n",
    "Estrutura: \n",
    "\n",
    "dicionario = {chave: valor, chave: valor, chave:valor}\n",
    "\n",
    "Vantagens e Desvantagens\n",
    "\n",
    "1. Não devem ser usados para pegar itens em uma determinada ordem\n",
    "2. Podem ter valores heterogeneos (vários tipos de valores dentro de um mesmo dicionario: inteiros, strings, listas etc)\n",
    "3. Chaves sao únicas obrigatoriamente\n",
    "4. mais intuitivos de trabalhar "
   ]
  },
  {
   "cell_type": "code",
   "execution_count": 11,
   "id": "47248e7f",
   "metadata": {},
   "outputs": [],
   "source": [
    "mais_vendidos = {'tecnologia': 'iphone', 'refrigeracao': 'ar consul 12000 btu', 'livros': 'o alquimista' }\n",
    "\n",
    "vendas_tecnologia = {'iphone': 15000, 'samsung galaxy': 12000, 'tv samsung': 10000, 'ps5': 143000, 'tablet': 1720}"
   ]
  },
  {
   "cell_type": "markdown",
   "id": "d8f15ebe",
   "metadata": {},
   "source": [
    "1. Qual foi o item mais vendido nas categorias livros e lazer?\n",
    "2. Quanto foi vendido de iphone e de tablet"
   ]
  },
  {
   "cell_type": "code",
   "execution_count": 16,
   "id": "dc0d9f0c",
   "metadata": {},
   "outputs": [
    {
     "name": "stdout",
     "output_type": "stream",
     "text": [
      "15000\n",
      "o alquimista\n",
      "1720\n"
     ]
    }
   ],
   "source": [
    "qtde_iphone = vendas_tecnologia['iphone']\n",
    "\n",
    "print(qtde_iphone)\n",
    "\n",
    "livro = mais_vendidos['livros']\n",
    "print(livro)\n",
    "\n",
    "qtde_ipad = vendas_tecnologia['tablet']\n",
    "print(qtde_ipad)"
   ]
  },
  {
   "cell_type": "markdown",
   "id": "6d5500f1",
   "metadata": {},
   "source": [
    "Não confie na ordem dos dicionarios, use as chaves\n",
    "\n",
    "Python versões antigas X versões novas\n",
    "\n",
    "1. dicionarios eram \"sem ordem\". Atualmente tem ordem, mas o certo é usar as chaves\n",
    "2. formas de pegar um valor\n",
    "- dicionario[chave]\n",
    "- .get(chave)"
   ]
  },
  {
   "cell_type": "code",
   "execution_count": 18,
   "id": "677d5c18",
   "metadata": {},
   "outputs": [],
   "source": [
    "mais_vendidos = {'tecnologia': 'iphone', 'refrigeracao': 'ar consul 12000 btu', 'livros': 'o alquimista' }\n",
    "\n",
    "vendas_tecnologia = {'iphone': 15000, 'samsung galaxy': 12000, 'tv samsung': 10000, 'ps5': 143000, 'tablet': 1720}"
   ]
  },
  {
   "cell_type": "code",
   "execution_count": 22,
   "id": "039b34b3",
   "metadata": {},
   "outputs": [
    {
     "name": "stdout",
     "output_type": "stream",
     "text": [
      "o livro mais vendido foi o alquimista\n",
      "Vendemos 1720 tablet\n"
     ]
    }
   ],
   "source": [
    "print('o livro mais vendido foi {}'.format(mais_vendidos['livros']))\n",
    "#metodo .get\n",
    "\n",
    "print('Vendemos {} tablet'.format(vendas_tecnologia.get('tablet')))"
   ]
  },
  {
   "cell_type": "code",
   "execution_count": 24,
   "id": "881ff625",
   "metadata": {},
   "outputs": [
    {
     "name": "stdout",
     "output_type": "stream",
     "text": [
      "Copo não está dentro\n"
     ]
    }
   ],
   "source": [
    "#if\n",
    "\n",
    "if 'copo' in vendas_tecnologia:\n",
    "    print(vendas_tecnologia['copo'])\n",
    "else:\n",
    "    print('Copo não está dentro')"
   ]
  },
  {
   "cell_type": "code",
   "execution_count": 26,
   "id": "42476d6b",
   "metadata": {},
   "outputs": [
    {
     "name": "stdout",
     "output_type": "stream",
     "text": [
      "Copo não está\n"
     ]
    }
   ],
   "source": [
    "#outra opcao\n",
    "\n",
    "if vendas_tecnologia.get('copo') == None:\n",
    "    print('Copo não está')\n",
    "else:\n",
    "    print(vendas.tecnologia.get('copo'))"
   ]
  },
  {
   "cell_type": "markdown",
   "id": "39e1accd",
   "metadata": {},
   "source": [
    "Adicionar, Remover e Modificar itens no dicionario\n",
    "\n",
    "dicionario = {} \n",
    "dicionario[chave] = valor\n",
    "\n",
    "outra opção\n",
    "\n",
    "dicionario.update({chave: valor, chave: valor})"
   ]
  },
  {
   "cell_type": "code",
   "execution_count": 38,
   "id": "1ee8c1a2",
   "metadata": {},
   "outputs": [
    {
     "name": "stdout",
     "output_type": "stream",
     "text": [
      "{'janeiro': 90000, 'fevereiro': 120000, 'abril': 88000}\n",
      "{'janeiro': 90000, 'fevereiro': 120000, 'abril': 88000, 'maio': 89000, 'junho': 120000}\n",
      "{'janeiro': 90000, 'fevereiro': 120000, 'abril': 88000, 'maio': 89000, 'junho': 88000}\n"
     ]
    }
   ],
   "source": [
    "lucro_1tri = {'janeiro': 100000, 'fevereiro': 120000, 'janeiro': 90000}\n",
    "lucro_2tri = {'abril': 88000, 'maio': 89000, 'junho': 120000}\n",
    "\n",
    "#adicionando 1 item\n",
    "lucro_1tri['abril'] = 88000\n",
    "print(lucro_1tri)\n",
    "\n",
    "#adicionando varios itens ou um dicionario a outro\n",
    "lucro_1tri.update(lucro_2tri)\n",
    "print(lucro_1tri)\n",
    "\n",
    "#adicionando um item ja existente\n",
    "lucro_1tri['junho'] = 88000\n",
    "print(lucro_1tri)\n",
    "\n",
    "#nao alterar o dicionario \"na mao\" para nao comprometer a informacao"
   ]
  },
  {
   "cell_type": "code",
   "execution_count": 32,
   "id": "7e34a3ba",
   "metadata": {},
   "outputs": [
    {
     "name": "stdout",
     "output_type": "stream",
     "text": [
      "{'janeiro': 88000, 'fevereiro': 85000, 'abril': 88000, 'maio': 89000, 'junho': 120000}\n"
     ]
    }
   ],
   "source": [
    "lucro_fev = 85000\n",
    "\n",
    "lucro_1tri['fevereiro'] = lucro_fev\n",
    "print(lucro_1tri)"
   ]
  },
  {
   "cell_type": "code",
   "execution_count": 35,
   "id": "b4ae8609",
   "metadata": {},
   "outputs": [
    {
     "name": "stdout",
     "output_type": "stream",
     "text": [
      "{'abril': 88000, 'maio': 89000}\n"
     ]
    }
   ],
   "source": [
    "#removendo itens, utilizando del que tambem funciona com listas\n",
    "\n",
    "del lucro_2tri['junho']\n",
    "print(lucro_2tri)"
   ]
  },
  {
   "cell_type": "code",
   "execution_count": 40,
   "id": "03fefa20",
   "metadata": {},
   "outputs": [
    {
     "ename": "KeyError",
     "evalue": "'junho'",
     "output_type": "error",
     "traceback": [
      "\u001b[1;31m---------------------------------------------------------------------------\u001b[0m",
      "\u001b[1;31mKeyError\u001b[0m                                  Traceback (most recent call last)",
      "\u001b[1;32m<ipython-input-40-4cb34ef09b59>\u001b[0m in \u001b[0;36m<module>\u001b[1;34m\u001b[0m\n\u001b[0;32m      1\u001b[0m \u001b[1;31m#removendo com pop\u001b[0m\u001b[1;33m\u001b[0m\u001b[1;33m\u001b[0m\u001b[1;33m\u001b[0m\u001b[0m\n\u001b[0;32m      2\u001b[0m \u001b[1;33m\u001b[0m\u001b[0m\n\u001b[1;32m----> 3\u001b[1;33m \u001b[0mlucro_jun\u001b[0m \u001b[1;33m=\u001b[0m \u001b[0mlucro_1tri\u001b[0m\u001b[1;33m.\u001b[0m\u001b[0mpop\u001b[0m\u001b[1;33m(\u001b[0m\u001b[1;34m'junho'\u001b[0m\u001b[1;33m)\u001b[0m\u001b[1;33m\u001b[0m\u001b[1;33m\u001b[0m\u001b[0m\n\u001b[0m\u001b[0;32m      4\u001b[0m \u001b[0mprint\u001b[0m\u001b[1;33m(\u001b[0m\u001b[0mlucro_1tri\u001b[0m\u001b[1;33m)\u001b[0m\u001b[1;33m\u001b[0m\u001b[1;33m\u001b[0m\u001b[0m\n\u001b[0;32m      5\u001b[0m \u001b[0mprint\u001b[0m\u001b[1;33m(\u001b[0m\u001b[0mlucro_jun\u001b[0m\u001b[1;33m)\u001b[0m\u001b[1;33m\u001b[0m\u001b[1;33m\u001b[0m\u001b[0m\n",
      "\u001b[1;31mKeyError\u001b[0m: 'junho'"
     ]
    }
   ],
   "source": [
    "#removendo com pop\n",
    "\n",
    "lucro_jun = lucro_1tri.pop('junho')\n",
    "print(lucro_1tri)\n",
    "print(lucro_jun)"
   ]
  },
  {
   "cell_type": "code",
   "execution_count": 42,
   "id": "5623da87",
   "metadata": {},
   "outputs": [
    {
     "name": "stdout",
     "output_type": "stream",
     "text": [
      "['lira', 'maria', 'ana', 'paula']\n"
     ]
    }
   ],
   "source": [
    "funcionarios = ['joao', 'lira', 'maria', 'ana', 'paula']\n",
    "del funcionarios[0]\n",
    "print(funcionarios)"
   ]
  },
  {
   "cell_type": "markdown",
   "id": "7a209b68",
   "metadata": {},
   "source": [
    "For nos Dicionarios\n",
    "\n",
    "for chave in dicionarios:\n",
    "    faca algo "
   ]
  },
  {
   "cell_type": "code",
   "execution_count": 48,
   "id": "9e1aa6c9",
   "metadata": {},
   "outputs": [
    {
     "name": "stdout",
     "output_type": "stream",
     "text": [
      "iphone: 15000 unidades\n",
      "samsung galaxy: 12000 unidades\n",
      "tv samsung: 10000 unidades\n",
      "ps5: 143000 unidades\n",
      "tablet: 1720 unidades\n",
      "ipad: 1000 unidades\n",
      "tv philco: 2500 unidades\n",
      "notebook hp: 1000 unidades\n",
      " notebook dell: 17000 unidades\n",
      "notebook asus: 2450 unidades\n"
     ]
    }
   ],
   "source": [
    "vendas_tecnologia = {'iphone': 15000, 'samsung galaxy': 12000, 'tv samsung': 10000, 'ps5': 143000, 'tablet': 1720, 'ipad': 1000, 'tv philco': 2500, 'notebook hp': 1000, ' notebook dell': 17000, 'notebook asus': 2450}\n",
    "\n",
    "for chave in vendas_tecnologia:\n",
    "    print('{}: {} unidades'.format(chave, vendas_tecnologia[chave]))"
   ]
  },
  {
   "cell_type": "code",
   "execution_count": 50,
   "id": "b19e6c1e",
   "metadata": {},
   "outputs": [
    {
     "name": "stdout",
     "output_type": "stream",
     "text": [
      "20450\n"
     ]
    }
   ],
   "source": [
    "#total de note vendido\n",
    "\n",
    "total_notebooks = 0 \n",
    "for chave in vendas_tecnologia:\n",
    "    if 'notebook' in chave:\n",
    "        total_notebooks = total_notebooks + vendas_tecnologia[chave]\n",
    "print(total_notebooks)"
   ]
  },
  {
   "cell_type": "markdown",
   "id": "0fc02b83",
   "metadata": {},
   "source": [
    "Exercicios\n",
    "\n",
    "# Exercícios\n",
    "\n",
    "## 1. Identificando Locais de Risco\n",
    "\n",
    "(Não conhecemos muito dos números e indicadores reais, esse é um exercício imaginário para treinarmos com um cenário mais prático)\n",
    "\n",
    "Digamos que você está construindo um programa para identificar níveis de CO2 (gás carbônico) em determinados locais para evitar potenciais acidentes. Em cada um desses locais a sua empresa tem 5 sensores que captam o nível de CO2 do local.\n",
    "\n",
    "Os níveis normais de CO2 são em média 350. O nível de CO2 de um local é dado pela média captada pelos 5 sensores.\n",
    "\n",
    "Isso significa que se tivermos os 5 sensores do Rio de Janeiro marcando: 350, 400, 450, 350, 300, o nível de CO2 do Rio de Janeiro será dado por: (350 + 400 + 450 + 350 + 300) / 5 = 370.\n",
    "\n",
    "Caso o nível seja maior do que 450, um aviso deve ser exibido pelo seu programa dizendo, por exemplo: Rio de Janeiro está com níveis altíssimos de CO2 (490), chamar equipe especializada para verificar a região.\n",
    "\n",
    "Os resultados dos sensores são monitorados frequentemente e são dados para o sistema em forma de dicionário:\n"
   ]
  },
  {
   "cell_type": "code",
   "execution_count": null,
   "id": "805cc368",
   "metadata": {},
   "outputs": [],
   "source": []
  },
  {
   "cell_type": "code",
   "execution_count": 53,
   "id": "3a87846a",
   "metadata": {},
   "outputs": [
    {
     "name": "stdout",
     "output_type": "stream",
     "text": [
      "RJ está com níveis altíssimos de CO2 496.6, chamar equipe especializada para verificar a região.\n",
      "RO está com níveis altíssimos de CO2 455.8, chamar equipe especializada para verificar a região.\n",
      "SC está com níveis altíssimos de CO2 455.0, chamar equipe especializada para verificar a região.\n"
     ]
    }
   ],
   "source": [
    "niveis_co2 = {\n",
    "    'AC': [325,405,429,486,402],\n",
    "    'AL': [492,495,310,407,388],\n",
    "    'AP': [507,503,368,338,400],\n",
    "    'AM': [429,456,352,377,363],\n",
    "    'BA': [321,508,372,490,412],\n",
    "    'CE': [424,328,425,516,480],\n",
    "    'ES': [449,506,461,337,336],\n",
    "    'GO': [425,460,385,485,460],\n",
    "    'MA': [361,310,344,425,490],\n",
    "    'MT': [358,402,425,386,379],\n",
    "    'MS': [324,357,441,405,427],\n",
    "    'MG': [345,367,391,427,516],\n",
    "    'PA': [479,514,392,493,329],\n",
    "    'PB': [418,499,317,302,476],\n",
    "    'PR': [420,508,419,396,327],\n",
    "    'PE': [404,444,495,320,343],\n",
    "    'PI': [513,513,304,377,475],\n",
    "    'RJ': [502,481,492,502,506],\n",
    "    'RN': [446,437,519,356,317],\n",
    "    'RS': [427,518,459,317,321],\n",
    "    'RO': [517,466,512,326,458],\n",
    "    'RR': [466,495,469,495,310],\n",
    "    'SC': [495,436,382,483,479],\n",
    "    'SP': [495,407,362,389,317],\n",
    "    'SE': [508,351,334,389,418],\n",
    "    'TO': [339,490,304,488,419],\n",
    "    'DF': [376,516,320,310,518], \n",
    "}\n",
    "\n",
    "for estado in niveis_co2:\n",
    "    qtde_sensores = len(niveis_co2[estado])\n",
    "    total_co2 = sum(niveis_co2[estado])\n",
    "    media_co2 = total_co2 / qtde_sensores\n",
    "    if media_co2 > 450:\n",
    "        print('{} está com níveis altíssimos de CO2 {}, chamar equipe especializada para verificar a região.'.format(estado, media_co2))"
   ]
  },
  {
   "cell_type": "markdown",
   "id": "b3ecc812",
   "metadata": {},
   "source": [
    "## 2. Case da Hashtag\n",
    "\n",
    "Recentemente tivemos que fazer backup dos vídeos que temos hospedados no Vimeo. Acontece que não existe um botão de Download de todos os vídeos ao mesmo tempo, precisamos entrar em 1 por 1 e fazer o download manualmente.\n",
    "\n",
    "A alternativa é gerar um código em Python que converse com a API do Vimeo (API é uma integração que as ferramentas abrem para programadores poderem fazer integrações dos seus próprios programas/scripts com a ferramenta).\n",
    "\n",
    "Para resolver isso, a gente fez a integração e fizemos uma \"requisição\" de todos os vídeos para a Vimeo. Essa requisição dá como resposta para o nosso código isso:"
   ]
  },
  {
   "cell_type": "code",
   "execution_count": 54,
   "id": "eca7274d",
   "metadata": {},
   "outputs": [
    {
     "name": "stdout",
     "output_type": "stream",
     "text": [
      "{'uri': '/videos/465407533', 'name': '15 Atalhos no Excel para Ficar Mais Produtivo', 'download': [{'quality': 'source', 'type': 'source', 'width': 1920, 'height': 1080, 'expires': '2020-10-07T04:00:55+00:00', 'link': 'https://player.vimeo.com/play/2064518513?s=465407533_1602043255_5f2f93dd00b66eba66d481f913383b4f&loc=external&context=Vimeo%5CController%5CApi%5CResources%5CUser%5CVideosController.&download=1&filename=15%2BAtalhos%2Bno%2BExcel%2Bpara%2BFicar%2BMais%2BProdutivosource.mp4', 'created_time': '2020-10-06T14:26:17+00:00', 'fps': 30, 'size': 402678442, 'md5': 'af09508ceceed4994554f04e8b931e22', 'public_name': 'Original', 'size_short': '384.02MB'}, {'quality': 'hd', 'type': 'video/mp4', 'width': 1920, 'height': 1080, 'expires': '2020-10-07T04:00:55+00:00', 'link': 'https://player.vimeo.com/play/2064523157?s=465407533_1602043255_ab7b8353c59b5048032396ec5d95a276&loc=external&context=Vimeo%5CController%5CApi%5CResources%5CUser%5CVideosController.&download=1&filename=15%2BAtalhos%2Bno%2BExcel%2Bpara%2BFicar%2BMais%2BProdutivo175.mp4', 'created_time': '2020-10-06T14:29:06+00:00', 'fps': 30, 'size': 173556205, 'md5': '3c05e1e69bd6b13eb1464451033907d2', 'public_name': 'HD 1080p', 'size_short': '165.52MB'}, {'quality': 'sd', 'type': 'video/mp4', 'width': 960, 'height': 540, 'expires': '2020-10-07T04:00:55+00:00', 'link': 'https://player.vimeo.com/play/2064523153?s=465407533_1602043255_f5ac38009ec5c0a13b30600c631446a3&loc=external&context=Vimeo%5CController%5CApi%5CResources%5CUser%5CVideosController.&download=1&filename=15%2BAtalhos%2Bno%2BExcel%2Bpara%2BFicar%2BMais%2BProdutivo165.mp4', 'created_time': '2020-10-06T14:29:06+00:00', 'fps': 30, 'size': 89881848, 'md5': '4a5c5c96cdf18202ed20ca534fd88007', 'public_name': 'SD 540p', 'size_short': '85.72MB'}, {'quality': 'sd', 'type': 'video/mp4', 'width': 426, 'height': 240, 'expires': '2020-10-07T04:00:55+00:00', 'link': 'https://player.vimeo.com/play/2064522788?s=465407533_1602043255_16c69872e2c4e92cc949d0b772242959&loc=external&context=Vimeo%5CController%5CApi%5CResources%5CUser%5CVideosController.&download=1&filename=15%2BAtalhos%2Bno%2BExcel%2Bpara%2BFicar%2BMais%2BProdutivo139.mp4', 'created_time': '2020-10-06T14:28:31+00:00', 'fps': 30, 'size': 27401450, 'md5': '91cc0229087ec94bf67f64b01ad8768d', 'public_name': 'SD 240p', 'size_short': '26.13MB'}, {'quality': 'sd', 'type': 'video/mp4', 'width': 640, 'height': 360, 'expires': '2020-10-07T04:00:55+00:00', 'link': 'https://player.vimeo.com/play/2064522787?s=465407533_1602043255_310b087e2fc8c5e1154ce7a33d10d60e&loc=external&context=Vimeo%5CController%5CApi%5CResources%5CUser%5CVideosController.&download=1&filename=15%2BAtalhos%2Bno%2BExcel%2Bpara%2BFicar%2BMais%2BProdutivo164.mp4', 'created_time': '2020-10-06T14:28:31+00:00', 'fps': 30, 'size': 48627155, 'md5': '548640bf79ce1552a3401726bb0e4224', 'public_name': 'SD 360p', 'size_short': '46.37MB'}]}\n"
     ]
    }
   ],
   "source": [
    "video = {'uri': '/videos/465407533', 'name': '15 Atalhos no Excel para Ficar Mais Produtivo', 'download': [{'quality': 'source', 'type': 'source', 'width': 1920, 'height': 1080, 'expires': '2020-10-07T04:00:55+00:00', 'link': 'https://player.vimeo.com/play/2064518513?s=465407533_1602043255_5f2f93dd00b66eba66d481f913383b4f&loc=external&context=Vimeo%5CController%5CApi%5CResources%5CUser%5CVideosController.&download=1&filename=15%2BAtalhos%2Bno%2BExcel%2Bpara%2BFicar%2BMais%2BProdutivosource.mp4', 'created_time': '2020-10-06T14:26:17+00:00', 'fps': 30, 'size': 402678442, 'md5': 'af09508ceceed4994554f04e8b931e22', 'public_name': 'Original', 'size_short': '384.02MB'}, {'quality': 'hd', 'type': 'video/mp4', 'width': 1920, 'height': 1080, 'expires': '2020-10-07T04:00:55+00:00', 'link': 'https://player.vimeo.com/play/2064523157?s=465407533_1602043255_ab7b8353c59b5048032396ec5d95a276&loc=external&context=Vimeo%5CController%5CApi%5CResources%5CUser%5CVideosController.&download=1&filename=15%2BAtalhos%2Bno%2BExcel%2Bpara%2BFicar%2BMais%2BProdutivo175.mp4', 'created_time': '2020-10-06T14:29:06+00:00', 'fps': 30, 'size': 173556205, 'md5': '3c05e1e69bd6b13eb1464451033907d2', 'public_name': 'HD 1080p', 'size_short': '165.52MB'}, {'quality': 'sd', 'type': 'video/mp4', 'width': 960, 'height': 540, 'expires': '2020-10-07T04:00:55+00:00', 'link': 'https://player.vimeo.com/play/2064523153?s=465407533_1602043255_f5ac38009ec5c0a13b30600c631446a3&loc=external&context=Vimeo%5CController%5CApi%5CResources%5CUser%5CVideosController.&download=1&filename=15%2BAtalhos%2Bno%2BExcel%2Bpara%2BFicar%2BMais%2BProdutivo165.mp4', 'created_time': '2020-10-06T14:29:06+00:00', 'fps': 30, 'size': 89881848, 'md5': '4a5c5c96cdf18202ed20ca534fd88007', 'public_name': 'SD 540p', 'size_short': '85.72MB'}, {'quality': 'sd', 'type': 'video/mp4', 'width': 426, 'height': 240, 'expires': '2020-10-07T04:00:55+00:00', 'link': 'https://player.vimeo.com/play/2064522788?s=465407533_1602043255_16c69872e2c4e92cc949d0b772242959&loc=external&context=Vimeo%5CController%5CApi%5CResources%5CUser%5CVideosController.&download=1&filename=15%2BAtalhos%2Bno%2BExcel%2Bpara%2BFicar%2BMais%2BProdutivo139.mp4', 'created_time': '2020-10-06T14:28:31+00:00', 'fps': 30, 'size': 27401450, 'md5': '91cc0229087ec94bf67f64b01ad8768d', 'public_name': 'SD 240p', 'size_short': '26.13MB'}, {'quality': 'sd', 'type': 'video/mp4', 'width': 640, 'height': 360, 'expires': '2020-10-07T04:00:55+00:00', 'link': 'https://player.vimeo.com/play/2064522787?s=465407533_1602043255_310b087e2fc8c5e1154ce7a33d10d60e&loc=external&context=Vimeo%5CController%5CApi%5CResources%5CUser%5CVideosController.&download=1&filename=15%2BAtalhos%2Bno%2BExcel%2Bpara%2BFicar%2BMais%2BProdutivo164.mp4', 'created_time': '2020-10-06T14:28:31+00:00', 'fps': 30, 'size': 48627155, 'md5': '548640bf79ce1552a3401726bb0e4224', 'public_name': 'SD 360p', 'size_short': '46.37MB'}]}\n",
    "print(video)"
   ]
  },
  {
   "cell_type": "code",
   "execution_count": 1,
   "id": "015a920b",
   "metadata": {},
   "outputs": [
    {
     "ename": "NameError",
     "evalue": "name 'video' is not defined",
     "output_type": "error",
     "traceback": [
      "\u001b[1;31m---------------------------------------------------------------------------\u001b[0m",
      "\u001b[1;31mNameError\u001b[0m                                 Traceback (most recent call last)",
      "\u001b[1;32m<ipython-input-1-13015e8ef20b>\u001b[0m in \u001b[0;36m<module>\u001b[1;34m\u001b[0m\n\u001b[1;32m----> 1\u001b[1;33m \u001b[1;32mfor\u001b[0m \u001b[0mitem\u001b[0m \u001b[1;32min\u001b[0m \u001b[0mvideo\u001b[0m\u001b[1;33m:\u001b[0m\u001b[1;33m\u001b[0m\u001b[1;33m\u001b[0m\u001b[0m\n\u001b[0m\u001b[0;32m      2\u001b[0m     \u001b[0mprint\u001b[0m\u001b[1;33m(\u001b[0m\u001b[0mitem\u001b[0m\u001b[1;33m)\u001b[0m\u001b[1;33m\u001b[0m\u001b[1;33m\u001b[0m\u001b[0m\n\u001b[0;32m      3\u001b[0m \u001b[1;33m\u001b[0m\u001b[0m\n\u001b[0;32m      4\u001b[0m \u001b[1;33m\u001b[0m\u001b[0m\n\u001b[0;32m      5\u001b[0m \u001b[0mprint\u001b[0m\u001b[1;33m(\u001b[0m\u001b[0mvideo\u001b[0m\u001b[1;33m[\u001b[0m\u001b[1;34m'download'\u001b[0m\u001b[1;33m]\u001b[0m\u001b[1;33m[\u001b[0m\u001b[1;36m0\u001b[0m\u001b[1;33m]\u001b[0m\u001b[1;33m[\u001b[0m\u001b[1;34m'link'\u001b[0m\u001b[1;33m]\u001b[0m\u001b[1;33m)\u001b[0m\u001b[1;33m\u001b[0m\u001b[1;33m\u001b[0m\u001b[0m\n",
      "\u001b[1;31mNameError\u001b[0m: name 'video' is not defined"
     ]
    }
   ],
   "source": [
    "for item in video:\n",
    "    print(item)\n",
    "    \n",
    "    \n",
    "print(video['download'][0]['link'])"
   ]
  },
  {
   "cell_type": "markdown",
   "id": "c0f61c65",
   "metadata": {},
   "source": [
    "## Métodos úteis em dicionarios\n",
    "\n",
    "# items() dos dicionarios"
   ]
  },
  {
   "cell_type": "code",
   "execution_count": 8,
   "id": "1071f716",
   "metadata": {},
   "outputs": [
    {
     "name": "stdout",
     "output_type": "stream",
     "text": [
      "('iphone', 15000)\n",
      "('samsung galaxy', 12000)\n",
      "('tv samsung', 10000)\n",
      "('ps5', 143000)\n",
      "('tablet', 1720)\n",
      "('ipad', 1000)\n",
      "('tv philco', 2500)\n",
      "('notebook hp', 1000)\n",
      "('notebook dell', 17000)\n",
      "('notebook asus', 2450)\n"
     ]
    }
   ],
   "source": [
    "vendas_tecnologia = {'iphone': 15000, 'samsung galaxy': 12000, 'tv samsung': 10000, 'ps5': 143000, 'tablet': 1720, 'ipad': 1000, 'tv philco': 2500, 'notebook hp': 1000, 'notebook dell': 17000, 'notebook asus': 2450}\n",
    "\n",
    "for item in vendas_tecnologia.items():\n",
    "    print(item)\n"
   ]
  },
  {
   "cell_type": "code",
   "execution_count": 6,
   "id": "59c3f38a",
   "metadata": {},
   "outputs": [
    {
     "name": "stdout",
     "output_type": "stream",
     "text": [
      "iphone : 15000 unidades\n",
      "samsung galaxy : 12000 unidades\n",
      "tv samsung : 10000 unidades\n",
      "ps5 : 143000 unidades\n",
      " notebook dell : 17000 unidades\n"
     ]
    }
   ],
   "source": [
    "# quais produtos venderam mais de 5000 unidades?\n",
    "\n",
    "for chave in vendas_tecnologia:\n",
    "    if vendas_tecnologia[chave] > 5000:\n",
    "        print('{} : {} unidades'.format(chave, vendas_tecnologia[chave]))"
   ]
  },
  {
   "cell_type": "code",
   "execution_count": 10,
   "id": "4c59754c",
   "metadata": {},
   "outputs": [
    {
     "name": "stdout",
     "output_type": "stream",
     "text": [
      "iphone: 15000 unidades.\n",
      "samsung galaxy: 12000 unidades.\n",
      "tv samsung: 10000 unidades.\n",
      "ps5: 143000 unidades.\n",
      "notebook dell: 17000 unidades.\n"
     ]
    }
   ],
   "source": [
    "# segunda maneira\n",
    "\n",
    "for produto, qtde in vendas_tecnologia.items():\n",
    "    if qtde > 5000:\n",
    "        print('{}: {} unidades.'.format(produto, qtde))"
   ]
  },
  {
   "cell_type": "markdown",
   "id": "7ddde9c6",
   "metadata": {},
   "source": [
    "## Listas importantes a partir do Dicionario\n",
    "\n",
    "# Métodos importantes\n",
    "\n",
    ".keys() -> uma lista com todas as chaves do dicionario\n",
    ".values() -> uma lista com todos os valores do dicionario \n",
    "\n",
    "obs. se o dicionario for modificado, automaticamente essas variaveis são modificadas, mesmo tendo sido criadas anteriormente"
   ]
  },
  {
   "cell_type": "code",
   "execution_count": 12,
   "id": "4ec49465",
   "metadata": {},
   "outputs": [
    {
     "name": "stdout",
     "output_type": "stream",
     "text": [
      "dict_keys(['iphone', 'samsung galaxy', 'tv samsung', 'ps5', 'tablet', 'ipad', 'tv philco', 'notebook hp', 'notebook dell', 'notebook asus'])\n",
      "dict_values([15000, 12000, 10000, 143000, 1720, 1000, 2500, 1000, 17000, 2450])\n"
     ]
    }
   ],
   "source": [
    "chaves = vendas_tecnologia.keys()\n",
    "valores = vendas_tecnologia.values()\n",
    "print(chaves)\n",
    "print(valores)"
   ]
  },
  {
   "cell_type": "code",
   "execution_count": 17,
   "id": "152980ed",
   "metadata": {},
   "outputs": [
    {
     "name": "stdout",
     "output_type": "stream",
     "text": [
      "['iphone', 'samsung galaxy', 'tv samsung', 'ps5', 'tablet', 'ipad', 'tv philco', 'notebook hp', 'notebook dell', 'notebook asus', 'liraphone']\n",
      "[15000, 12000, 10000, 143000, 1720, 1000, 2500, 1000, 17000, 2450, 10]\n"
     ]
    }
   ],
   "source": [
    "#adicionando itens\n",
    "vendas_tecnologia['liraphone'] = 10\n",
    "#print(chaves)\n",
    "#print(valores)\n",
    "print(list(chaves))\n",
    "print(list(valores))"
   ]
  },
  {
   "cell_type": "code",
   "execution_count": 19,
   "id": "2c2aa2cd",
   "metadata": {},
   "outputs": [
    {
     "name": "stdout",
     "output_type": "stream",
     "text": [
      "iphone: 15000 unidades\n",
      "samsung galaxy: 12000 unidades\n",
      "tv samsung: 10000 unidades\n",
      "ps5: 143000 unidades\n",
      "tablet: 1720 unidades\n",
      "ipad: 1000 unidades\n",
      "tv philco: 2500 unidades\n",
      "notebook hp: 1000 unidades\n",
      "notebook dell: 17000 unidades\n",
      "notebook asus: 2450 unidades\n",
      "liraphone: 10 unidades\n",
      "----------------------------------------\n",
      "ipad: 1000 unidades\n",
      "iphone: 15000 unidades\n",
      "liraphone: 10 unidades\n",
      "notebook asus: 2450 unidades\n",
      "notebook dell: 17000 unidades\n",
      "notebook hp: 1000 unidades\n",
      "ps5: 143000 unidades\n",
      "samsung galaxy: 12000 unidades\n",
      "tablet: 1720 unidades\n",
      "tv philco: 2500 unidades\n",
      "tv samsung: 10000 unidades\n"
     ]
    }
   ],
   "source": [
    "for chave in vendas_tecnologia:\n",
    "    print('{}: {} unidades'.format(chave, vendas_tecnologia[chave]))\n",
    "print('-' *40)\n",
    "\n",
    "#agora organizando\n",
    "\n",
    "lista_chaves = list(chaves)\n",
    "lista_chaves.sort()\n",
    "\n",
    "for chave in lista_chaves:\n",
    "    print('{}: {} unidades'.format(chave, vendas_tecnologia[chave]))"
   ]
  },
  {
   "cell_type": "markdown",
   "id": "bb10ca47",
   "metadata": {},
   "source": [
    "## Transformando Listas em Dicionários e Function zip\n",
    "\n",
    "# Estrutura\n",
    "\n",
    "- Dicionario com valores padroes:\n",
    "\n",
    "dicionario = dict.fromkeys(lista_chaves, valor_padrao)\n",
    "\n",
    "- dicionario a partir de listas de tuplas\n",
    "\n",
    "dicionario = dict(lista_tuplas)\n",
    "\n",
    "- Dicionario a partir de 2 listas:\n",
    "\n",
    "Passo 1 : transformar listas em lista de tuplas com o método zip\n",
    "Passo 2 : transformar em dicionario\n",
    "\n",
    "lista_tuplas = zip(lista1, lista2) dicionario = dict(lista_tuplas)"
   ]
  },
  {
   "cell_type": "code",
   "execution_count": 24,
   "id": "73781b1c",
   "metadata": {},
   "outputs": [
    {
     "name": "stdout",
     "output_type": "stream",
     "text": [
      "{'iphone': 0, 'samsung galaxy': 0, 'tv samsung': 0, 'ps5': 0, 'tablet': 0, 'ipad': 0, 'tv philco': 0, 'notebook hp': 0, 'notebook dell': 0, 'notebook asus': 0, 'liraphone': 0}\n",
      "{'iphone': 15000, 'samsung galaxy': 12000, 'tv samsung': 10000, 'ps5': 143000, 'tablet': 1720, 'ipad': 1000, 'tv philco': 2500, 'notebook hp': 1000, 'notebook dell': 17000, 'notebook asus': 2450, 'liraphone': 10}\n"
     ]
    }
   ],
   "source": [
    "produtos = ['iphone', 'samsung galaxy', 'tv samsung', 'ps5', 'tablet', 'ipad', 'tv philco', 'notebook hp', 'notebook dell', 'notebook asus', 'liraphone']\n",
    "vendas = [15000, 12000, 10000, 143000, 1720, 1000, 2500, 1000, 17000, 2450, 10]\n",
    "\n",
    "# quantos vendemos de ipad\n",
    "\n",
    "dicionario = dict.fromkeys(produtos, 0) #criando um dicionario\n",
    "print(dicionario)\n",
    "\n",
    "\n",
    "lista_tuplas = zip(produtos, vendas)\n",
    "dicionario_vendas = dict(lista_tuplas)\n",
    "print(dicionario_vendas)\n",
    "\n"
   ]
  },
  {
   "cell_type": "code",
   "execution_count": 27,
   "id": "0c5b1d42",
   "metadata": {},
   "outputs": [
    {
     "name": "stdout",
     "output_type": "stream",
     "text": [
      "Vendemos 1000 ipads\n",
      "Vendemos 1000 ipads\n"
     ]
    }
   ],
   "source": [
    "#quantos vendemos de ipad\n",
    "\n",
    "#fazendo por lista\n",
    "\n",
    "indice = produtos.index('ipad')\n",
    "#primeiro se descobre o index\n",
    "print('Vendemos {} ipads'.format(vendas[indice]))\n",
    "\n",
    "\n",
    "#fazendo por dicionario\n",
    "\n",
    "print('Vendemos {} ipads'.format(dicionario_vendas['ipad']))"
   ]
  },
  {
   "cell_type": "code",
   "execution_count": null,
   "id": "5e9e2025",
   "metadata": {},
   "outputs": [],
   "source": []
  }
 ],
 "metadata": {
  "kernelspec": {
   "display_name": "Python 3",
   "language": "python",
   "name": "python3"
  },
  "language_info": {
   "codemirror_mode": {
    "name": "ipython",
    "version": 3
   },
   "file_extension": ".py",
   "mimetype": "text/x-python",
   "name": "python",
   "nbconvert_exporter": "python",
   "pygments_lexer": "ipython3",
   "version": "3.8.8"
  }
 },
 "nbformat": 4,
 "nbformat_minor": 5
}
